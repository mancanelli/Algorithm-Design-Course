{
  "nbformat": 4,
  "nbformat_minor": 0,
  "metadata": {
    "colab": {
      "provenance": []
    },
    "kernelspec": {
      "name": "python3",
      "display_name": "Python 3"
    },
    "language_info": {
      "name": "python"
    }
  },
  "cells": [
    {
      "cell_type": "code",
      "source": [
        "import math\n",
        "import random\n",
        "import numpy as np"
      ],
      "metadata": {
        "id": "EJ00VYWbxB8b"
      },
      "execution_count": null,
      "outputs": []
    },
    {
      "cell_type": "markdown",
      "source": [
        "## Z-test"
      ],
      "metadata": {
        "id": "70jzknEgwVWl"
      }
    },
    {
      "cell_type": "code",
      "execution_count": null,
      "metadata": {
        "colab": {
          "base_uri": "https://localhost:8080/"
        },
        "id": "TnELjgk3wUdB",
        "outputId": "9ce4419f-44b7-4352-f409-b69cd0bdd618"
      },
      "outputs": [
        {
          "output_type": "stream",
          "name": "stdout",
          "text": [
            "z_score: 8.165\n",
            "Reject null hypothesis\n"
          ]
        }
      ],
      "source": [
        "n = 200\n",
        "a = 160\n",
        "b = 190\n",
        "\n",
        "mean = (a+b)/2\n",
        "var = (b-a)**2/12\n",
        "sd = math.sqrt(var)\n",
        "\n",
        "sample_mean = 180\n",
        "alpha = 0.05\n",
        "critical_values = (-1.96, 1.96)\n",
        "\n",
        "z_score = (sample_mean - mean) / (sd / math.sqrt(n))\n",
        "\n",
        "print(\"z_score: {:.3f}\".format(z_score))\n",
        "\n",
        "if(z_score < critical_values[0] or z_score > critical_values[1]):\n",
        "  print(\"Reject null hypothesis\")\n",
        "else:\n",
        "  print(\"Fail to reject null hypothesis\")"
      ]
    },
    {
      "cell_type": "markdown",
      "source": [
        "## Empirical test"
      ],
      "metadata": {
        "id": "Gwcd1QFXx30C"
      }
    },
    {
      "cell_type": "code",
      "source": [
        "lst = []\n",
        "t = 10000\n",
        "\n",
        "for i in range(t):\n",
        "  lst.append(sum([np.random.uniform(a, b) for i in range(n)]) / n)\n",
        "\n",
        "f1 = list(filter(lambda x: x >= mean, lst))\n",
        "f2 = list(filter(lambda x: x >= sample_mean-1, lst))\n",
        "print(\"Number of times in which the sample mean is greater than or equal to {}: {}/{}\".format(int(mean), len(f1), t))\n",
        "print(\"Number of times in which the sample mean is greater than or equal to {}: {}/{}\".format(sample_mean-1, len(f2), t))"
      ],
      "metadata": {
        "colab": {
          "base_uri": "https://localhost:8080/"
        },
        "id": "IdjCfI7Dx77K",
        "outputId": "967f55cd-992a-4bbb-8254-52532723c7d4"
      },
      "execution_count": null,
      "outputs": [
        {
          "output_type": "stream",
          "name": "stdout",
          "text": [
            "Number of times in which the sample mean is greater than or equal to 175: 5116/10000\n",
            "Number of times in which the sample mean is greater than or equal to 179: 0/10000\n"
          ]
        }
      ]
    }
  ]
}